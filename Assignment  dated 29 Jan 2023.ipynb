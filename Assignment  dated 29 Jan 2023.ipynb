{
 "cells": [
  {
   "cell_type": "code",
   "execution_count": 1,
   "id": "e472f1ef",
   "metadata": {},
   "outputs": [],
   "source": [
    "# Ques 1 : Who developed Python Programming Language?"
   ]
  },
  {
   "cell_type": "code",
   "execution_count": 2,
   "id": "68fa9398",
   "metadata": {},
   "outputs": [],
   "source": [
    "# Ans : Python developed by Dutch programmer Guido van Rossum in the Netherlands."
   ]
  },
  {
   "cell_type": "code",
   "execution_count": 3,
   "id": "42040058",
   "metadata": {},
   "outputs": [],
   "source": [
    "# Ques 2 : Which type of Programming does Python support?"
   ]
  },
  {
   "cell_type": "code",
   "execution_count": 4,
   "id": "babb18db",
   "metadata": {},
   "outputs": [],
   "source": [
    "# Ans : Python is an interpreted programming language, which supports object-oriented, structured, and functional programming."
   ]
  },
  {
   "cell_type": "code",
   "execution_count": 5,
   "id": "27f42d92",
   "metadata": {},
   "outputs": [],
   "source": [
    "# Ques 3 : Is Python case sensitive when dealing with identifiers?"
   ]
  },
  {
   "cell_type": "code",
   "execution_count": 6,
   "id": "5b786da8",
   "metadata": {},
   "outputs": [],
   "source": [
    "# Ans : Yes"
   ]
  },
  {
   "cell_type": "code",
   "execution_count": 7,
   "id": "1125e450",
   "metadata": {},
   "outputs": [],
   "source": [
    "# Ques 4 : What is the correct extension of the Python file?"
   ]
  },
  {
   "cell_type": "code",
   "execution_count": 8,
   "id": "fdb8d478",
   "metadata": {},
   "outputs": [],
   "source": [
    "# Ans :  ‘.py’ is the correct extension of the Python file."
   ]
  },
  {
   "cell_type": "code",
   "execution_count": 9,
   "id": "eb510e1d",
   "metadata": {},
   "outputs": [],
   "source": [
    "# Ques 5 : Is Python code compiled or interpreted?"
   ]
  },
  {
   "cell_type": "code",
   "execution_count": 10,
   "id": "fb1fe337",
   "metadata": {},
   "outputs": [],
   "source": [
    "# Ans : Both compiler and interpreter"
   ]
  },
  {
   "cell_type": "code",
   "execution_count": 11,
   "id": "0518659c",
   "metadata": {},
   "outputs": [],
   "source": [
    "# Ques 6 : Name a few blocks of code used to define in Python language?"
   ]
  },
  {
   "cell_type": "code",
   "execution_count": 12,
   "id": "60000931",
   "metadata": {},
   "outputs": [],
   "source": [
    "# Ans :  Indentation is used to define a block of code in python."
   ]
  },
  {
   "cell_type": "code",
   "execution_count": 13,
   "id": "bacf0daf",
   "metadata": {},
   "outputs": [],
   "source": [
    "# Ques 7 : State a character used to give single-line comments in Python?"
   ]
  },
  {
   "cell_type": "code",
   "execution_count": 14,
   "id": "b811512d",
   "metadata": {},
   "outputs": [],
   "source": [
    "# Ans : Hash character (#) at the beginning of the line."
   ]
  },
  {
   "cell_type": "code",
   "execution_count": 15,
   "id": "e0bda9c4",
   "metadata": {},
   "outputs": [],
   "source": [
    "# Ques 8 : Mention functions which can help us to find the version of python that we are currently working on?"
   ]
  },
  {
   "cell_type": "code",
   "execution_count": 16,
   "id": "f9314278",
   "metadata": {},
   "outputs": [],
   "source": [
    "# Ans : sys.version"
   ]
  },
  {
   "cell_type": "code",
   "execution_count": 17,
   "id": "3d9a349b",
   "metadata": {},
   "outputs": [],
   "source": [
    "# Ques 9 : Python supports the creation of anonymous functions at runtime, using a construct called __________"
   ]
  },
  {
   "cell_type": "code",
   "execution_count": 18,
   "id": "a4277e1e",
   "metadata": {},
   "outputs": [],
   "source": [
    "# Ans : Lambda"
   ]
  },
  {
   "cell_type": "code",
   "execution_count": 19,
   "id": "a4a8d0f3",
   "metadata": {},
   "outputs": [],
   "source": [
    "# Ques 10 : What does pip stand for python?"
   ]
  },
  {
   "cell_type": "code",
   "execution_count": 20,
   "id": "82447cad",
   "metadata": {},
   "outputs": [],
   "source": [
    "# Ans : Preferred Installer Program"
   ]
  },
  {
   "cell_type": "code",
   "execution_count": 21,
   "id": "2af47b89",
   "metadata": {},
   "outputs": [],
   "source": [
    "# Ques 11 : Mention a few built-in functions in Python?"
   ]
  },
  {
   "cell_type": "code",
   "execution_count": 22,
   "id": "eb06938a",
   "metadata": {},
   "outputs": [],
   "source": [
    "# Ans : print( ) function, type( ) function,input( ) function,round( ) function,len( ) function etc.."
   ]
  },
  {
   "cell_type": "code",
   "execution_count": 23,
   "id": "fc49f10b",
   "metadata": {},
   "outputs": [],
   "source": [
    "# Ques 12 : What is the maximum possible length of an identifier in Python?"
   ]
  },
  {
   "cell_type": "code",
   "execution_count": 24,
   "id": "ed2860d5",
   "metadata": {},
   "outputs": [],
   "source": [
    "# Ans : An identifier can have a maximum length of 79 characters in Python"
   ]
  },
  {
   "cell_type": "code",
   "execution_count": 25,
   "id": "7bf47deb",
   "metadata": {},
   "outputs": [],
   "source": [
    "# Ques 13 : What are the benefits of using Python? "
   ]
  },
  {
   "cell_type": "code",
   "execution_count": 26,
   "id": "3d115d1b",
   "metadata": {},
   "outputs": [],
   "source": [
    "# Ans : Easy to Read, Learn and Write,Free and Open-Source, Vast Libraries Support, Interpreted Language, User-Friendly data structures"
   ]
  },
  {
   "cell_type": "code",
   "execution_count": 27,
   "id": "5569c722",
   "metadata": {},
   "outputs": [],
   "source": [
    "# Ques 14 : How is memory managed in Python?"
   ]
  },
  {
   "cell_type": "code",
   "execution_count": 28,
   "id": "b3d9ebf4",
   "metadata": {},
   "outputs": [],
   "source": [
    "# Ans : Every python process has two types of memory allocated to it i.e. Static and Dynamic Memory"
   ]
  },
  {
   "cell_type": "code",
   "execution_count": 5,
   "id": "8a756f4e",
   "metadata": {},
   "outputs": [],
   "source": [
    "# Ques 15 : How to install Python on Windows and set path variables?"
   ]
  },
  {
   "cell_type": "code",
   "execution_count": null,
   "id": "915f2945",
   "metadata": {},
   "outputs": [],
   "source": [
    "'''To install Python on Windows, follow these steps:\n",
    "\n",
    "Download the Python installer from the official website: https://www.python.org/downloads/\n",
    "Run the installer and follow the steps to install Python on your system. Make sure to check the option to add Python to the PATH environment variable during the installation process.\n",
    "Open the Command Prompt or Windows Terminal.\n",
    "Type the command python and press enter. If the installation was successful, you should see the Python prompt >>>.\n",
    "To set the PATH environment variable, follow these steps:\n",
    "\n",
    "Open the Start menu and search for \"Environment Variables\".\n",
    "Click on \"Edit the system environment variables\".\n",
    "Click on the \"Environment Variables\" button.\n",
    "Under \"System Variables\", scroll down and find the \"Path\" variable, then click on \"Edit\".\n",
    "Click on \"New\" and add the path to the Python installation directory, e.g., C:\\Python38\\.\n",
    "Close all open windows and restart the Command Prompt or Windows Terminal.\n",
    "Type the command python and press enter. The Python prompt >>> should now be displayed, indicating that the PATH environment variable has been set successfully.'''"
   ]
  },
  {
   "cell_type": "code",
   "execution_count": 31,
   "id": "71b5c15e",
   "metadata": {},
   "outputs": [],
   "source": [
    "# Ques 16 : Is Indentation required in Python?"
   ]
  },
  {
   "cell_type": "code",
   "execution_count": null,
   "id": "27c4f0f2",
   "metadata": {},
   "outputs": [],
   "source": [
    "# Ans : Yes, its required....Python uses indentation to indicate a block of code. Without properly indenting the Python code, will see Indentation Error and the code will not get compiled."
   ]
  }
 ],
 "metadata": {
  "kernelspec": {
   "display_name": "Python 3 (ipykernel)",
   "language": "python",
   "name": "python3"
  },
  "language_info": {
   "codemirror_mode": {
    "name": "ipython",
    "version": 3
   },
   "file_extension": ".py",
   "mimetype": "text/x-python",
   "name": "python",
   "nbconvert_exporter": "python",
   "pygments_lexer": "ipython3",
   "version": "3.8.10"
  }
 },
 "nbformat": 4,
 "nbformat_minor": 5
}
